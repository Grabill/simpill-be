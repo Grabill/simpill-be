{
 "cells": [
  {
   "cell_type": "code",
   "execution_count": 9,
   "metadata": {},
   "outputs": [],
   "source": [
    "from rank_bm25 import BM25Okapi\n",
    "from nltk.stem import PorterStemmer\n",
    "import json\n",
    "from nltk.tokenize import word_tokenize\n",
    "import numpy as np\n",
    "# import nltk\n",
    "# nltk.download('stopwords')\n",
    "\n",
    "# stop_words = set(nltk.corpus.stopwords.words('english'))\n",
    "ps = PorterStemmer()"
   ]
  },
  {
   "cell_type": "code",
   "execution_count": 10,
   "metadata": {},
   "outputs": [],
   "source": [
    "def process_data(data):\n",
    "    # remove stop words\n",
    "    # data = [word.lower() for word in data if word not in stop_words]\n",
    "    # convert to string joined by space\n",
    "    # data = ' '.join(data)\n",
    "\n",
    "    # tokenize\n",
    "    tokenized_words = word_tokenize(data)\n",
    "\n",
    "    # stemming\n",
    "    tokenized_words = [ps.stem(word) for word in tokenized_words]\n",
    "    return tokenized_words"
   ]
  },
  {
   "cell_type": "code",
   "execution_count": 11,
   "metadata": {},
   "outputs": [],
   "source": [
    "def process_query(query):\n",
    "    return word_tokenize(query)"
   ]
  },
  {
   "cell_type": "code",
   "execution_count": 12,
   "metadata": {},
   "outputs": [
    {
     "name": "stdout",
     "output_type": "stream",
     "text": [
      "(139,)\n"
     ]
    }
   ],
   "source": [
    "symp_details = []\n",
    "with open('../cleaned_data/symp_cleaned.json') as f:\n",
    "    symp_details = json.load(f)\n",
    "\n",
    "# filter out symptoms current field ends with \"-1.html\"\n",
    "\n",
    "symp_details = [symp['details'] for symp in symp_details if symp['current'].endswith('-1.html')]\n",
    "print(np.array(symp_details).shape)\n",
    "# tokenize the symptoms\n",
    "symp_details_tokenized = [process_data(symp) for symp in symp_details]\n",
    "bm25_symp = BM25Okapi(symp_details_tokenized)"
   ]
  },
  {
   "cell_type": "code",
   "execution_count": 13,
   "metadata": {},
   "outputs": [],
   "source": [
    "query = \"treament sore throat cough children\"\n",
    "\n",
    "predicted_symp = bm25_symp.get_top_n(process_data(query), symp_details, n=5)\n",
    "\n",
    "# write to predicted_symp.json\n",
    "with open('../output/predicted_symp.json', 'w') as f:\n",
    "    json.dump(predicted_symp, f, indent=4)"
   ]
  },
  {
   "cell_type": "code",
   "execution_count": 14,
   "metadata": {},
   "outputs": [],
   "source": [
    "with open('../cleaned_data/splm_cleaned.json') as f:\n",
    "    splms = json.load(f)\n",
    "\n",
    "splms_details = [str(splm['overview']) + str(splm['uses']) for splm in splms]\n",
    "# print(np.array(splms_details).shape)\n",
    "# tokenize the symptoms\n",
    "splms_tokenized = [process_data(splm) for splm in splms_details]\n",
    "bm25_splm = BM25Okapi(splms_tokenized)"
   ]
  },
  {
   "cell_type": "code",
   "execution_count": 15,
   "metadata": {},
   "outputs": [],
   "source": [
    "# Match tu input cua nguoi dung den cac detail cua cac symptoms, sau do dem cac symptoms nay match voi cac splm\n",
    "predicted_splm = {}\n",
    "for symp in predicted_symp:\n",
    "    predicted_splm[symp] = bm25_splm.get_top_n(process_query(symp), splms, n=1)\n",
    "\n",
    "# write to predicted_splm.json\n",
    "with open('../output/predicted_splm.json', 'w') as f:\n",
    "    # loop through the dict and write the values to the file\n",
    "    res = []\n",
    "    for key, value in predicted_splm.items():\n",
    "        res.append(value[0])\n",
    "\n",
    "    json.dump(res, f, indent=4)"
   ]
  },
  {
   "cell_type": "code",
   "execution_count": 16,
   "metadata": {},
   "outputs": [],
   "source": [
    "# Khong qua match voi symptoms data, match truc tiep tu input cua nguoi dung toi cac splm\n",
    "predicted_splm = bm25_splm.get_top_n(process_query(query), splms, n=10)\n",
    "\n",
    "# write to predicted_splm.json\n",
    "with open('../output/directly_predicted_splm.json', 'w') as f:\n",
    "    json.dump(predicted_splm, f, indent=4)"
   ]
  }
 ],
 "metadata": {
  "kernelspec": {
   "display_name": "ml-env",
   "language": "python",
   "name": "python3"
  },
  "language_info": {
   "codemirror_mode": {
    "name": "ipython",
    "version": 3
   },
   "file_extension": ".py",
   "mimetype": "text/x-python",
   "name": "python",
   "nbconvert_exporter": "python",
   "pygments_lexer": "ipython3",
   "version": "3.11.7"
  }
 },
 "nbformat": 4,
 "nbformat_minor": 2
}
