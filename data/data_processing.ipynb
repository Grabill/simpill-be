{
 "cells": [
  {
   "cell_type": "code",
   "execution_count": 6,
   "metadata": {},
   "outputs": [],
   "source": [
    "from bs4 import BeautifulSoup\n",
    "import re\n",
    "import requests\n",
    "import json"
   ]
  },
  {
   "cell_type": "code",
   "execution_count": 7,
   "metadata": {},
   "outputs": [],
   "source": [
    "def clean_html(html_content):\n",
    "    soup = BeautifulSoup(html_content, 'html.parser')\n",
    "    \n",
    "    for script in soup([\"script\", \"style\"]):\n",
    "        script.extract()\n",
    "    \n",
    "    # Get the text without HTML tags\n",
    "    text = soup.get_text()\n",
    "    \n",
    "    # Remove extra whitespace, newline characters and \\\"\n",
    "    text = re.sub(r'\\s+|\\n', ' ', text).strip().replace('\\\"', '')\n",
    "    \n",
    "    return text"
   ]
  },
  {
   "cell_type": "code",
   "execution_count": 24,
   "metadata": {},
   "outputs": [
    {
     "name": "stderr",
     "output_type": "stream",
     "text": [
      "C:\\Users\\quan\\AppData\\Local\\Temp\\ipykernel_5376\\3969310976.py:2: MarkupResemblesLocatorWarning: The input looks more like a filename than markup. You may want to open this file and pass the filehandle into Beautiful Soup.\n",
      "  soup = BeautifulSoup(html_content, 'html.parser')\n"
     ]
    }
   ],
   "source": [
    "# splm.json\n",
    "splm_link = \"https://drive.google.com/uc?export=view&id=1Oe0rZ72gWMldQfdMv6TEXh4KA3zp-Jjs\"\n",
    "\n",
    "response = requests.get(splm_link)\n",
    "\n",
    "splm_json = response.json()\n",
    "\n",
    "splm_fields = ['name', 'overview', 'uses', 'side_effects', 'precautions', 'interactions', 'dosing']\n",
    "\n",
    "for obj in splm_json:\n",
    "    for field in splm_fields:\n",
    "        if obj[field]:\n",
    "            obj[field] = clean_html(obj[field])\n",
    "\n",
    "with open('splm_cleaned.json', 'w') as f:\n",
    "    json.dump(splm_json, f)"
   ]
  },
  {
   "cell_type": "code",
   "execution_count": 9,
   "metadata": {},
   "outputs": [
    {
     "name": "stderr",
     "output_type": "stream",
     "text": [
      "C:\\Users\\quan\\AppData\\Local\\Temp\\ipykernel_13432\\3969310976.py:2: MarkupResemblesLocatorWarning: The input looks more like a URL than markup. You may want to use an HTTP client like requests to get the document behind the URL, and feed that document to Beautiful Soup.\n",
      "  soup = BeautifulSoup(html_content, 'html.parser')\n"
     ]
    }
   ],
   "source": [
    "# raw_symp.json\n",
    "symp_link = \"https://drive.google.com/uc?export=view&id=106GtD_nouuqstOwcpBN8T9opwvaBAvo_\"\n",
    "\n",
    "response = requests.get(symp_link)\n",
    "\n",
    "symp_json = response.json()\n",
    "\n",
    "symp_fields = ['symptom', 'current', 'details']\n",
    "\n",
    "\n",
    "for obj in symp_json:\n",
    "    for field in symp_fields:\n",
    "        if obj[field]:\n",
    "            obj[field] = clean_html(obj[field])\n",
    "\n",
    "with open('symp_cleaned.json', 'w') as f:\n",
    "    json.dump(symp_json, f)\n"
   ]
  }
 ],
 "metadata": {
  "kernelspec": {
   "display_name": "ml-env",
   "language": "python",
   "name": "python3"
  },
  "language_info": {
   "codemirror_mode": {
    "name": "ipython",
    "version": 3
   },
   "file_extension": ".py",
   "mimetype": "text/x-python",
   "name": "python",
   "nbconvert_exporter": "python",
   "pygments_lexer": "ipython3",
   "version": "3.11.7"
  }
 },
 "nbformat": 4,
 "nbformat_minor": 2
}
