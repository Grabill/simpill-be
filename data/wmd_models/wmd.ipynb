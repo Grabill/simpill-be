{
 "cells": [
  {
   "cell_type": "code",
   "execution_count": 1,
   "metadata": {},
   "outputs": [
    {
     "name": "stderr",
     "output_type": "stream",
     "text": [
      "[nltk_data] Downloading package stopwords to /home/dirii/nltk_data...\n",
      "[nltk_data]   Package stopwords is already up-to-date!\n"
     ]
    }
   ],
   "source": [
    "# Import and download stopwords from NLTK.\n",
    "from nltk.corpus import stopwords\n",
    "from nltk import download\n",
    "from nltk import sent_tokenize\n",
    "from nltk.stem import PorterStemmer\n",
    "download('stopwords')  # Download stopwords list.\n",
    "stop_words = stopwords.words('english')\n",
    "porter = PorterStemmer()\n",
    "\n",
    "def sent_preprocess(sentence):\n",
    "    return [porter.stem(word) for word in sentence.lower().split() if word not in stop_words]\n",
    "\n",
    "def para_preprocess(paragraph):\n",
    "    return [sent_preprocess(sentence) for sentence in sent_tokenize(paragraph)]"
   ]
  },
  {
   "cell_type": "code",
   "execution_count": 2,
   "metadata": {},
   "outputs": [
    {
     "name": "stdout",
     "output_type": "stream",
     "text": [
      "[==================================================] 100.0% 1662.8/1662.8MB downloaded\n"
     ]
    }
   ],
   "source": [
    "import gensim.downloader as api\n",
    "model = api.load('word2vec-google-news-300')"
   ]
  },
  {
   "cell_type": "code",
   "execution_count": 23,
   "metadata": {},
   "outputs": [],
   "source": [
    "import json\n",
    "\n",
    "with open('../cleaned_data/splm_cleaned1.json') as f:\n",
    "    data = json.load(f)\n",
    "\n",
    "descriptions = [(str(d['overview']) + str(d['uses'])).lower() for d in data]\n",
    "\n",
    "processed_descriptions = [para_preprocess(d) for d in descriptions]"
   ]
  },
  {
   "cell_type": "code",
   "execution_count": 24,
   "metadata": {},
   "outputs": [],
   "source": [
    "from gensim.similarities import WmdSimilarity\n",
    "\n",
    "wmd_instances = []\n",
    "# Process all the descriptions and store the WMD instances.\n",
    "for desc in processed_descriptions:\n",
    "    wmd_instances.append(WmdSimilarity(desc, model, num_best=4))"
   ]
  },
  {
   "cell_type": "code",
   "execution_count": 28,
   "metadata": {},
   "outputs": [],
   "source": [
    "query = 'Treatment of bleeding gums'\n",
    "query = sent_preprocess(query)\n",
    "threshold = 0.43"
   ]
  },
  {
   "cell_type": "code",
   "execution_count": 29,
   "metadata": {},
   "outputs": [],
   "source": [
    "import numpy as np\n",
    "\n",
    "avg_sims = []\n",
    "for instance in wmd_instances:\n",
    "    sims = instance.get_similarities(query)\n",
    "    sims = sims[sims > threshold]\n",
    "    if len(sims) > 0:\n",
    "        avg_sims.append(np.mean(sims))\n",
    "    else:\n",
    "        avg_sims.append(0)\n",
    "\n",
    "sorted_indices = np.argsort(avg_sims)[::-1]\n",
    "\n",
    "# import numpy as np\n",
    "# import multiprocessing\n",
    "\n",
    "# # Define a function to calculate average similarities for a single instance\n",
    "# def calculate_avg_sim(instance, query, threshold):\n",
    "#     sims = instance.get_similarities(query)\n",
    "#     sims = sims[sims > threshold]\n",
    "#     if len(sims) > 0:\n",
    "#         return np.mean(sims)\n",
    "#     else:\n",
    "#         return 0\n",
    "\n",
    "# num_cores = multiprocessing.cpu_count() - 1\n",
    "# num_batch = len(wmd_instances) // num_cores\n",
    "# instance_chunks = [wmd_instances[i:i + num_batch] for i in range(0, len(wmd_instances), num_batch)]\n",
    "\n",
    "# # Create a pool of processes\n",
    "# pool = multiprocessing.Pool(processes=num_cores)\n",
    "# results = pool.starmap(calculate_avg_sim, [(chunk, query, threshold) for chunk in instance_chunks])\n",
    "# pool.close()\n",
    "# pool.join()\n",
    "\n",
    "# avg_sims = [sim for chunk in results for sim in chunk]\n",
    "\n",
    "# sorted_indices = np.argsort(avg_sims)[::-1]"
   ]
  },
  {
   "cell_type": "code",
   "execution_count": 30,
   "metadata": {},
   "outputs": [
    {
     "ename": "",
     "evalue": "",
     "output_type": "error",
     "traceback": [
      "\u001b[1;31mThe Kernel crashed while executing code in the current cell or a previous cell. \n",
      "\u001b[1;31mPlease review the code in the cell(s) to identify a possible cause of the failure. \n",
      "\u001b[1;31mClick <a href='https://aka.ms/vscodeJupyterKernelCrash'>here</a> for more info. \n",
      "\u001b[1;31mView Jupyter <a href='command:jupyter.viewOutput'>log</a> for further details."
     ]
    }
   ],
   "source": [
    "# write the results to a file\n",
    "with open('results.json', 'w') as f:\n",
    "    json.dump([{'description': data[i], 'similarity': avg_sims[i]} for i in sorted_indices], f, indent=4)"
   ]
  }
 ],
 "metadata": {
  "kernelspec": {
   "display_name": "ml-env",
   "language": "python",
   "name": "python3"
  },
  "language_info": {
   "codemirror_mode": {
    "name": "ipython",
    "version": 3
   },
   "file_extension": ".py",
   "mimetype": "text/x-python",
   "name": "python",
   "nbconvert_exporter": "python",
   "pygments_lexer": "ipython3",
   "version": "3.10.12"
  }
 },
 "nbformat": 4,
 "nbformat_minor": 2
}
